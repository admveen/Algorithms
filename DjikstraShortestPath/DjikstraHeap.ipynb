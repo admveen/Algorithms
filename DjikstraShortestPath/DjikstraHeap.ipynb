{
 "cells": [
  {
   "cell_type": "code",
   "execution_count": 5,
   "metadata": {},
   "outputs": [],
   "source": [
    "import heapq\n",
    "import numpy as np"
   ]
  },
  {
   "cell_type": "code",
   "execution_count": 6,
   "metadata": {},
   "outputs": [],
   "source": [
    "# loads data from tab delimited text file\n",
    "# adjacency formatted with each row corresponding to a source vertex in first column\n",
    "# remaining columns in row are connected vertex, edge weight (comma delimited)\n",
    "\n",
    "def LoadAdjacencyList(path):\n",
    "    adjlist = {}\n",
    "    \n",
    "    #sub function returns connected vertex, weight tuple\n",
    "    def processvertexweights(inputstring):\n",
    "        vertexweight = inputstring.split(',')\n",
    "        vertex = vertexweight[0]\n",
    "        weight = int(vertexweight[1])\n",
    "        \n",
    "        return vertex, weight\n",
    "    \n",
    "    with open(path, 'r') as f:\n",
    "        for line in f:\n",
    "            parsedline = line.strip().split('\\t')\n",
    "            node = parsedline[0]\n",
    "            adjvert_weight = list(map(processvertexweights, parsedline[1::]))\n",
    "            adjlist.update({node: adjvert_weight})\n",
    "    return adjlist\n",
    "\n",
    "        \n",
    "    "
   ]
  },
  {
   "cell_type": "code",
   "execution_count": 7,
   "metadata": {},
   "outputs": [],
   "source": [
    "weightedG = LoadAdjacencyList('dijkstraData.txt')"
   ]
  },
  {
   "cell_type": "code",
   "execution_count": 16,
   "metadata": {},
   "outputs": [],
   "source": [
    "# operate on weighted graph to get single source shortest path distance to specified node\n",
    "\n",
    "def Djikstra(input_graph, source, destination):\n",
    "    \n",
    "    \n",
    "    # lets initialize our greedy scores for each vertex as a dictionary with infinity as dummies for the non-source vertices\n",
    "    A = { vertex: np.inf for vertex in input_graph.keys() if vertex != source}\n",
    "    A[source] = 0\n",
    "    \n",
    "    #Initiate a heap and we'll initialize with the source vertex\n",
    "    \n",
    "    VminusXHeap = [(0, source)]\n",
    "    \n",
    "    #loops while there are still elements in the heap\n",
    "    while len(VminusXHeap) > 0:\n",
    "        alphadist, alphavertex = heapq.heappop(VminusXHeap)\n",
    "        \n",
    "        # this goes back to beginning of loop and ignores popped vertex if its score is greater than the current greedy score in A\n",
    "        # this is possible because we are not deleting from the heap except by the heap extract min\n",
    "        \n",
    "        if alphadist > A[alphavertex]:\n",
    "            continue\n",
    "        \n",
    "        # now the only other possibility is that we are popping the minimum Djikstra greedy value. If thats the case, then \n",
    "        # we go through the adjacent vertices to this vertex and get the Djikstra scores for these vertices.\n",
    "\n",
    "        for vconn in input_graph[alphavertex]:\n",
    "            \n",
    "            vertexlabel = vconn[0]\n",
    "            edgeweight = vconn[1]\n",
    "            \n",
    "            # Djikstra score \n",
    "            vdist = A[alphavertex] + edgeweight\n",
    "            \n",
    "            # if this score is less than whats the current score for this adjacent vertex then update it.\n",
    "            #Remember that we havent sucked the vertex in yet. THIS IS THE RELAXATION STEP.\n",
    "            \n",
    "            if vdist < A[vertexlabel]:\n",
    "                A[vertexlabel] = vdist\n",
    "                # Push it into the heap with the current distance being a possible minimum greedy score for path s->v. \n",
    "                # This is a lazy implementation of Djikstra\n",
    "                heapq.heappush(VminusXHeap, (vdist, vertexlabel))\n",
    "                \n",
    "    \n",
    "    return A[destination]\n",
    "       "
   ]
  },
  {
   "cell_type": "code",
   "execution_count": 17,
   "metadata": {
    "scrolled": true
   },
   "outputs": [
    {
     "data": {
      "text/plain": [
       "1875"
      ]
     },
     "execution_count": 17,
     "metadata": {},
     "output_type": "execute_result"
    }
   ],
   "source": [
    "# Implementing Djikstra to find shortest path distance from node 1 (single source) to node '8'\n",
    "Djikstra(weightedG, '1', '8')\n"
   ]
  }
 ],
 "metadata": {
  "kernelspec": {
   "display_name": "Python 3",
   "language": "python",
   "name": "python3"
  },
  "language_info": {
   "codemirror_mode": {
    "name": "ipython",
    "version": 3
   },
   "file_extension": ".py",
   "mimetype": "text/x-python",
   "name": "python",
   "nbconvert_exporter": "python",
   "pygments_lexer": "ipython3",
   "version": "3.7.4"
  }
 },
 "nbformat": 4,
 "nbformat_minor": 2
}
