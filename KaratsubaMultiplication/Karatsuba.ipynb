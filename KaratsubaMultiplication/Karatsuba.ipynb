{
 "cells": [
  {
   "cell_type": "code",
   "execution_count": 14,
   "metadata": {},
   "outputs": [],
   "source": [
    "# lets just deal with the case for mulltiplication of integers of equal length both with lengths that are base 2.\n",
    "\n",
    "\n",
    "# only works for base 2 multiplication with numbers of equal length\n",
    "\n",
    "def karatsuba(x,y):\n",
    "\tif len(str(x)) == 1:\n",
    "\t\treturn x*y\n",
    "\telse:\n",
    "\t\tn = len(str(x))\n",
    "\t\tnby2 = n // 2\n",
    "\t\t\n",
    "\t\ta = x // 10**(nby2)\n",
    "\t\tb = x % 10**(nby2)\n",
    "\t\tc = y // 10**(nby2)\n",
    "\t\td = y % 10**(nby2)\n",
    "\t\t\n",
    "\t\tac_prod = karatsuba(a,c)\n",
    "\t\tbd_prod = karatsuba(b,d)\n",
    "\t\tad_plus_bc = karatsuba(a+b,c+d) - ac_prod - bd_prod\n",
    "        \n",
    "\n",
    "\t\tprod = ac_prod * 10**(2*nby2) + (ad_plus_bc * 10**nby2) + bd_prod\n",
    "\n",
    "\t\treturn prod"
   ]
  },
  {
   "cell_type": "code",
   "execution_count": 15,
   "metadata": {
    "scrolled": false
   },
   "outputs": [
    {
     "data": {
      "text/plain": [
       "8539734222673567065463550869546574495034888535765114961879601127067743044893204848617875072216249073013374895871952806582723184"
      ]
     },
     "execution_count": 15,
     "metadata": {},
     "output_type": "execute_result"
    }
   ],
   "source": [
    "karatsuba(3141592653589793238462643383279502884197169399375105820974944592, 2718281828459045235360287471352662497757247093699959574966967627)"
   ]
  },
  {
   "cell_type": "code",
   "execution_count": null,
   "metadata": {},
   "outputs": [],
   "source": []
  }
 ],
 "metadata": {
  "kernelspec": {
   "display_name": "Python 3",
   "language": "python",
   "name": "python3"
  },
  "language_info": {
   "codemirror_mode": {
    "name": "ipython",
    "version": 3
   },
   "file_extension": ".py",
   "mimetype": "text/x-python",
   "name": "python",
   "nbconvert_exporter": "python",
   "pygments_lexer": "ipython3",
   "version": "3.7.4"
  }
 },
 "nbformat": 4,
 "nbformat_minor": 2
}
