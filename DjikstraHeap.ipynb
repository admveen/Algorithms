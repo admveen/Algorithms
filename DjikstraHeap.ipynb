{
 "cells": [
  {
   "cell_type": "code",
   "execution_count": 253,
   "metadata": {},
   "outputs": [],
   "source": [
    "import heapq\n",
    "import numpy as np"
   ]
  },
  {
   "cell_type": "code",
   "execution_count": 268,
   "metadata": {},
   "outputs": [],
   "source": [
    "\n",
    "def LoadAdjacencyList(path):\n",
    "    adjlist = {}\n",
    "    \n",
    "    def processvertexweights(inputstring):\n",
    "        vertexweight = inputstring.split(',')\n",
    "        vertex = vertexweight[0]\n",
    "        weight = int(vertexweight[1])\n",
    "        \n",
    "        return vertex, weight\n",
    "    \n",
    "    with open(path, 'r') as f:\n",
    "        for line in f:\n",
    "            parsedline = line.strip().split('\\t')\n",
    "            node = parsedline[0]\n",
    "            adjvert_weight = list(map(processvertexweights, parsedline[1::]))\n",
    "            adjlist.update({node: adjvert_weight})\n",
    "    return adjlist\n",
    "\n",
    "        \n",
    "    "
   ]
  },
  {
   "cell_type": "code",
   "execution_count": 305,
   "metadata": {},
   "outputs": [],
   "source": [
    "weightedG = LoadAdjacencyList('dijkstraData.txt')"
   ]
  },
  {
   "cell_type": "code",
   "execution_count": 308,
   "metadata": {},
   "outputs": [
    {
     "name": "stdout",
     "output_type": "stream",
     "text": [
      "{'2': inf, '3': inf, '4': inf, '5': inf, '6': inf, '7': inf, '8': inf, '9': inf, '10': inf, '11': inf, '12': inf, '13': inf, '14': inf, '15': inf, '16': inf, '17': inf, '18': inf, '19': inf, '20': inf, '21': inf, '22': inf, '23': inf, '24': inf, '25': inf, '26': inf, '27': inf, '28': inf, '29': inf, '30': inf, '31': inf, '32': inf, '33': inf, '34': inf, '35': inf, '36': inf, '37': inf, '38': inf, '39': inf, '40': inf, '41': inf, '42': inf, '43': inf, '44': inf, '45': inf, '46': inf, '47': inf, '48': inf, '49': inf, '50': inf, '51': inf, '52': inf, '53': inf, '54': inf, '55': inf, '56': inf, '57': inf, '58': inf, '59': inf, '60': inf, '61': inf, '62': inf, '63': inf, '64': inf, '65': inf, '66': inf, '67': inf, '68': inf, '69': inf, '70': inf, '71': inf, '72': inf, '73': inf, '74': inf, '75': inf, '76': inf, '77': inf, '78': inf, '79': inf, '80': inf, '81': inf, '82': inf, '83': inf, '84': inf, '85': inf, '86': inf, '87': inf, '88': inf, '89': inf, '90': inf, '91': inf, '92': inf, '93': inf, '94': inf, '95': inf, '96': inf, '97': inf, '98': inf, '99': inf, '100': inf, '101': inf, '102': inf, '103': inf, '104': inf, '105': inf, '106': inf, '107': inf, '108': inf, '109': inf, '110': inf, '111': inf, '112': inf, '113': inf, '114': inf, '115': inf, '116': inf, '117': inf, '118': inf, '119': inf, '120': inf, '121': inf, '122': inf, '123': inf, '124': inf, '125': inf, '126': inf, '127': inf, '128': inf, '129': inf, '130': inf, '131': inf, '132': inf, '133': inf, '134': inf, '135': inf, '136': inf, '137': inf, '138': inf, '139': inf, '140': inf, '141': inf, '142': inf, '143': inf, '144': inf, '145': inf, '146': inf, '147': inf, '148': inf, '149': inf, '150': inf, '151': inf, '152': inf, '153': inf, '154': inf, '155': inf, '156': inf, '157': inf, '158': inf, '159': inf, '160': inf, '161': inf, '162': inf, '163': inf, '164': inf, '165': inf, '166': inf, '167': inf, '168': inf, '169': inf, '170': inf, '171': inf, '172': inf, '173': inf, '174': inf, '175': inf, '176': inf, '177': inf, '178': inf, '179': inf, '180': inf, '181': inf, '182': inf, '183': inf, '184': inf, '185': inf, '186': inf, '187': inf, '188': inf, '189': inf, '190': inf, '191': inf, '192': inf, '193': inf, '194': inf, '195': inf, '196': inf, '197': inf, '198': inf, '199': inf, '200': inf}\n"
     ]
    }
   ],
   "source": [
    "A = { vertex: np.inf for vertex in weightedG.keys() if vertex != '1'}\n",
    "print(A)"
   ]
  },
  {
   "cell_type": "code",
   "execution_count": 312,
   "metadata": {},
   "outputs": [
    {
     "data": {
      "text/plain": [
       "True"
      ]
     },
     "execution_count": 312,
     "metadata": {},
     "output_type": "execute_result"
    }
   ],
   "source": [
    "VminusXHeap = [(0, '1')]\n",
    "VminusXHeap.pop()\n",
    "not VminusXHeap"
   ]
  },
  {
   "cell_type": "code",
   "execution_count": 328,
   "metadata": {},
   "outputs": [],
   "source": [
    "# operate on weighted graph to get single source\n",
    "def Djikstra(input_graph, source):\n",
    "    \n",
    "    \n",
    "    # lets initialize our greedy scores for each vertex as a dictionary with infinity as dummies for the non-source vertices\n",
    "    A = { vertex: np.inf for vertex in input_graph.keys() if vertex != source}\n",
    "    A[source] = 0\n",
    "    \n",
    "    #Initiate a heap and we'll initialize with the source vertex\n",
    "    \n",
    "    VminusXHeap = [(0, source)]\n",
    "    \n",
    "    #loops while there are still elements in the heap\n",
    "    while len(VminusXHeap) > 0:\n",
    "        alphadist, alphavertex = heapq.heappop(VminusXHeap)\n",
    "        \n",
    "        # this goes back to beginning of loop and ignores popped vertex if its score is greater than the current greedy score in A\n",
    "        # this is possible because we are not deleting from the heap except by the heap extract min\n",
    "        \n",
    "        if alphadist > A[alphavertex]:\n",
    "            continue\n",
    "        \n",
    "        # now the only other possibility is that we are popping the minimum Djikstra greedy value. If thats the case, then \n",
    "        # we go through the adjacent vertices to this vertex and get the Djikstra scores for these vertices.\n",
    "\n",
    "        for vconn in input_graph[alphavertex]:\n",
    "            \n",
    "            vertexlabel = vconn[0]\n",
    "            edgeweight = vconn[1]\n",
    "            \n",
    "            # Djikstra score \n",
    "            vdist = A[alphavertex] + edgeweight\n",
    "            \n",
    "            # if this score is less than whats the current score for this adjacent vertex then update it.\n",
    "            #Remember that we havent sucked the vertex in yet. THIS IS THE RELAXATION STEP.\n",
    "            \n",
    "            if vdist < A[vertexlabel]:\n",
    "                A[vertexlabel] = vdist\n",
    "                # Push it into the heap with the current distance being a possible minimum greedy score for path s->v. \n",
    "                heapq.heappush(VminusXHeap, (vdist, vertexlabel))\n",
    "    \n",
    "    \n",
    "    indexdesired = ['7','37','59','82','99','115','133','165','188','197']\n",
    "    \n",
    "    return [A[x] for x in indexdesired]\n",
    "       "
   ]
  },
  {
   "cell_type": "code",
   "execution_count": 329,
   "metadata": {
    "scrolled": true
   },
   "outputs": [
    {
     "data": {
      "text/plain": [
       "[2599, 2610, 2947, 2052, 2367, 2399, 2029, 2442, 2505, 3068]"
      ]
     },
     "execution_count": 329,
     "metadata": {},
     "output_type": "execute_result"
    }
   ],
   "source": [
    "# heapify works by first element in tuple\n",
    "Djikstra(weightedG, '1')\n"
   ]
  },
  {
   "cell_type": "code",
   "execution_count": null,
   "metadata": {},
   "outputs": [],
   "source": []
  }
 ],
 "metadata": {
  "kernelspec": {
   "display_name": "Python 3",
   "language": "python",
   "name": "python3"
  },
  "language_info": {
   "codemirror_mode": {
    "name": "ipython",
    "version": 3
   },
   "file_extension": ".py",
   "mimetype": "text/x-python",
   "name": "python",
   "nbconvert_exporter": "python",
   "pygments_lexer": "ipython3",
   "version": "3.7.4"
  }
 },
 "nbformat": 4,
 "nbformat_minor": 2
}
