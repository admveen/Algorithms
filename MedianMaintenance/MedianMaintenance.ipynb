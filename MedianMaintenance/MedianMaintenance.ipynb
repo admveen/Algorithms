{
 "cells": [
  {
   "cell_type": "code",
   "execution_count": 28,
   "metadata": {},
   "outputs": [],
   "source": [
    "import heapq\n",
    "import numpy as np"
   ]
  },
  {
   "cell_type": "code",
   "execution_count": 12,
   "metadata": {},
   "outputs": [],
   "source": [
    "\n",
    "with open('Median.txt','r') as f:\n",
    "    datastream = [int(x.strip()) for x in f]\n"
   ]
  },
  {
   "cell_type": "code",
   "execution_count": 80,
   "metadata": {},
   "outputs": [],
   "source": [
    "def MedianMaintenance(stream):\n",
    "    # initialize our upper and lower heaps and gets first two entries of running median array\n",
    "    LowerH = []\n",
    "    HigherH = []\n",
    "    medianarray = []\n",
    "    x1 = stream[0]\n",
    "    heapq.heappush(LowerH,-x1)\n",
    "    medianarray.append(x1)\n",
    "    x2 = stream[1]\n",
    "    if x2 >= x1:\n",
    "        heapq.heappush(HigherH, x2)\n",
    "    else: \n",
    "        heapq.heappush(LowerH, -x2)\n",
    "        balancer = heapq.heappop(LowerH)*(-1)\n",
    "        heapq.heappush(HigherH, balancer)\n",
    "        \n",
    "    med1 = - heapq.heappop(LowerH)\n",
    "    heapq.heappush(LowerH, - med1)\n",
    "    \n",
    "    med2 = heapq.heappop(HigherH)\n",
    "    heapq.heappush(HigherH, med2)\n",
    "    \n",
    "    medianarray.append(med1) # return k/2 statistic when k =2\n",
    "    \n",
    "    \n",
    "    # now start the median sequence\n",
    "    \n",
    "    initstream = stream[2::]\n",
    "    \n",
    "    for elem in initstream:\n",
    "        negelem = - elem\n",
    "        \n",
    "        #extract heap element with max absolute value in LowerH in place\n",
    "        \n",
    "        LowerMax = heapq.heappop(LowerH)\n",
    "        heapq.heappush(LowerH, LowerMax)\n",
    "        \n",
    "        #extract heap element with min absolute value in HigherH in place\n",
    "        \n",
    "        HigherMin = heapq.heappop(HigherH)\n",
    "        heapq.heappush(HigherH, HigherMin)\n",
    "        \n",
    "        # now do our comparisons to figure out where to put our new element\n",
    "        \n",
    "        if negelem >= LowerMax:\n",
    "            heapq.heappush(LowerH, negelem)\n",
    "        elif elem >= HigherMin:\n",
    "            heapq.heappush(HigherH, elem)\n",
    "        else:\n",
    "            heapq.heappush(HigherH, elem)\n",
    "            \n",
    "        # Now we need to rebalance heaps if necessary:\n",
    "        \n",
    "        if len(LowerH) - len(HigherH) > 1:\n",
    "            balancer2 = - heapq.heappop(LowerH)\n",
    "            heapq.heappush(HigherH, balancer2)\n",
    "        elif len(HigherH) - len(LowerH) > 1:\n",
    "            balancer2 = heapq.heappop(HigherH)\n",
    "            heapq.heappush(LowerH, - balancer2)\n",
    "            \n",
    "        # Now do append calculation on medianarray\n",
    "        \n",
    "        if len(LowerH) == len(HigherH):            \n",
    "            med2 = - heapq.heappop(LowerH)\n",
    "            heapq.heappush(LowerH, -med2)\n",
    "            medianarray.append(med2)\n",
    "            \n",
    "        elif len(LowerH) > len(HigherH):\n",
    "            med2 = - heapq.heappop(LowerH)\n",
    "            heapq.heappush(LowerH, -med2)\n",
    "            medianarray.append(med2)\n",
    "            \n",
    "        elif len(HigherH) > len(LowerH):\n",
    "            med1 = heapq.heappop(HigherH)\n",
    "            heapq.heappush(HigherH, med1)\n",
    "            medianarray.append(med1)\n",
    "        \n",
    "    return medianarray\n",
    "\n",
    "\n",
    "    \n"
   ]
  },
  {
   "cell_type": "code",
   "execution_count": 81,
   "metadata": {},
   "outputs": [
    {
     "data": {
      "text/plain": [
       "1213"
      ]
     },
     "execution_count": 81,
     "metadata": {},
     "output_type": "execute_result"
    }
   ],
   "source": [
    "sum(MedianMaintenance(datastream))%10000"
   ]
  }
 ],
 "metadata": {
  "kernelspec": {
   "display_name": "Python 3",
   "language": "python",
   "name": "python3"
  },
  "language_info": {
   "codemirror_mode": {
    "name": "ipython",
    "version": 3
   },
   "file_extension": ".py",
   "mimetype": "text/x-python",
   "name": "python",
   "nbconvert_exporter": "python",
   "pygments_lexer": "ipython3",
   "version": "3.7.4"
  }
 },
 "nbformat": 4,
 "nbformat_minor": 2
}
