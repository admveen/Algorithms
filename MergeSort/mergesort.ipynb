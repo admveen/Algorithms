{
 "cells": [
  {
   "cell_type": "markdown",
   "metadata": {},
   "source": [
    "# Merge Sort Implementation"
   ]
  },
  {
   "cell_type": "code",
   "execution_count": 20,
   "metadata": {},
   "outputs": [],
   "source": [
    "x = [0,15,3,2,1,14,18,15]"
   ]
  },
  {
   "cell_type": "markdown",
   "metadata": {},
   "source": [
    "### Define merge() on two sorted lists"
   ]
  },
  {
   "cell_type": "code",
   "execution_count": 21,
   "metadata": {},
   "outputs": [],
   "source": [
    "#ordered merge of two already sorted lists \n",
    "def merge(alist, blist):\n",
    "    #initialize counters and merged list\n",
    "    i = 0\n",
    "    j = 0\n",
    "    mergedlist = []\n",
    "    \n",
    "    while i < len(alist) and j < len(blist):\n",
    "        if alist[i] < blist[j]:\n",
    "            mergedlist.append(alist[i])\n",
    "            i+=1    \n",
    "        elif alist[i] > blist[j]:\n",
    "            mergedlist.append(blist[j])\n",
    "            j+=1\n",
    "        elif alist[i] == blist[j]:\n",
    "            mergedlist.append(alist[i])\n",
    "            mergedlist.append(blist[j])\n",
    "            i+=1\n",
    "            j+=1\n",
    "\n",
    "    #copies whatever is left over after the interleaving is done\n",
    "    mergedlist.extend(blist[j::])\n",
    "    mergedlist.extend(alist[i::])\n",
    "    \n",
    "    return mergedlist\n",
    "        \n",
    "        "
   ]
  },
  {
   "cell_type": "markdown",
   "metadata": {},
   "source": [
    "### Define mergesort()"
   ]
  },
  {
   "cell_type": "code",
   "execution_count": 22,
   "metadata": {},
   "outputs": [],
   "source": [
    "# recursive method to sort array where array elements are unique\n",
    "def mergesort(numlist):\n",
    "    n = len(numlist)\n",
    "    m = int(n/2)\n",
    "    if n == 1:\n",
    "        return numlist\n",
    "    else: \n",
    "        alist = mergesort(numlist[0:m])\n",
    "        blist = mergesort(numlist[m::])\n",
    "        return merge(alist,blist)\n",
    "        "
   ]
  },
  {
   "cell_type": "code",
   "execution_count": 23,
   "metadata": {},
   "outputs": [
    {
     "data": {
      "text/plain": [
       "[0, 1, 2, 3, 14, 15, 15, 18]"
      ]
     },
     "execution_count": 23,
     "metadata": {},
     "output_type": "execute_result"
    }
   ],
   "source": [
    "mergesort(x)"
   ]
  },
  {
   "cell_type": "code",
   "execution_count": null,
   "metadata": {},
   "outputs": [],
   "source": []
  }
 ],
 "metadata": {
  "kernelspec": {
   "display_name": "Python 3",
   "language": "python",
   "name": "python3"
  },
  "language_info": {
   "codemirror_mode": {
    "name": "ipython",
    "version": 3
   },
   "file_extension": ".py",
   "mimetype": "text/x-python",
   "name": "python",
   "nbconvert_exporter": "python",
   "pygments_lexer": "ipython3",
   "version": "3.7.4"
  }
 },
 "nbformat": 4,
 "nbformat_minor": 2
}
